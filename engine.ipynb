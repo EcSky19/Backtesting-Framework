{
 "cells": [
  {
   "cell_type": "code",
   "execution_count": 6,
   "metadata": {},
   "outputs": [
    {
     "ename": "ModuleNotFoundError",
     "evalue": "No module named 'pandas'",
     "output_type": "error",
     "traceback": [
      "\u001b[0;31m---------------------------------------------------------------------------\u001b[0m",
      "\u001b[0;31mModuleNotFoundError\u001b[0m                       Traceback (most recent call last)",
      "Cell \u001b[0;32mIn[6], line 1\u001b[0m\n\u001b[0;32m----> 1\u001b[0m \u001b[38;5;28;01mimport\u001b[39;00m\u001b[38;5;250m \u001b[39m\u001b[38;5;21;01mpandas\u001b[39;00m\u001b[38;5;250m \u001b[39m\u001b[38;5;28;01mas\u001b[39;00m\u001b[38;5;250m \u001b[39m\u001b[38;5;21;01mpd\u001b[39;00m\n\u001b[1;32m      2\u001b[0m \u001b[38;5;28;01mfrom\u001b[39;00m\u001b[38;5;250m \u001b[39m\u001b[38;5;21;01mtqdm\u001b[39;00m\u001b[38;5;250m \u001b[39m\u001b[38;5;28;01mimport\u001b[39;00m tqdm\n",
      "\u001b[0;31mModuleNotFoundError\u001b[0m: No module named 'pandas'"
     ]
    }
   ],
   "source": [
    "import pandas as pd\n",
    "from tqdm import tqdm"
   ]
  },
  {
   "cell_type": "code",
   "execution_count": 7,
   "metadata": {},
   "outputs": [],
   "source": [
    "class Order():\n",
    "    def __init__(self, ticker, size, side, idx, limit_price=None, order_type='market'):\n",
    "        self.ticker = ticker\n",
    "        self.side = side\n",
    "        self.size = size\n",
    "        self.type = 'market'\n",
    "        self.idx = idx\n",
    "        self.type = order_type\n",
    "        self.limit_price = limit_price"
   ]
  },
  {
   "cell_type": "code",
   "execution_count": 8,
   "metadata": {},
   "outputs": [],
   "source": [
    "class Trade():\n",
    "    def __init__(self, ticker,side,size,price,type,idx):\n",
    "        self.ticker = ticker\n",
    "        self.side = side\n",
    "        self.price = price\n",
    "        self.size = size\n",
    "        self.type = type\n",
    "        self.idx = idx\n",
    "    def __repr__(self):\n",
    "        return f'<Trade: {self.idx} {self.ticker} {self.size}@{self.price}>'\n"
   ]
  },
  {
   "cell_type": "code",
   "execution_count": 9,
   "metadata": {},
   "outputs": [],
   "source": [
    "class Strategy():\n",
    "    @property\n",
    "    def close(self):\n",
    "        return self.data.loc[self.current_idx]['Close']\n",
    "\n",
    "    def __init__(self):\n",
    "        self.current_idx = None\n",
    "        self.data = None\n",
    "        self.orders = []\n",
    "        self.trades = []\n",
    "    \n",
    "    def buy(self,ticker,size=1):\n",
    "        self.orders.append(\n",
    "            Order(\n",
    "                ticker = ticker,\n",
    "                side = 'buy',\n",
    "                size = size,\n",
    "                idx = self.current_idx\n",
    "            ))\n",
    "\n",
    "    def sell(self,ticker,size=1):\n",
    "        self.orders.append(\n",
    "            Order(\n",
    "                ticker = ticker,\n",
    "                side = 'sell',\n",
    "                size = -size,\n",
    "                idx = self.current_idx\n",
    "            ))\n",
    "        \n",
    "    def buy_limit(self,ticker,limit_price, size=1):\n",
    "        self.orders.append(\n",
    "            Order(\n",
    "                ticker = ticker,\n",
    "                side = 'buy',\n",
    "                size = size,\n",
    "                limit_price=limit_price,\n",
    "                order_type='limit',\n",
    "                idx = self.current_idx\n",
    "            ))\n",
    "\n",
    "    def sell_limit(self,ticker,limit_price, size=1):\n",
    "        self.orders.append(\n",
    "            Order(\n",
    "                ticker = ticker,\n",
    "                side = 'sell',\n",
    "                size = -size,\n",
    "                limit_price=limit_price,\n",
    "                order_type='limit',\n",
    "                idx = self.current_idx\n",
    "            ))\n",
    "        \n",
    "    @property\n",
    "    def position_size(self):\n",
    "        return sum([t.size for t in self.trades])\n",
    "        \n",
    "    def on_bar(self):\n",
    "        \"\"\"This method will be overriden by our strategies.\n",
    "        \"\"\"\n",
    "        pass\n",
    "    "
   ]
  },
  {
   "cell_type": "code",
   "execution_count": 10,
   "metadata": {},
   "outputs": [
    {
     "ename": "NameError",
     "evalue": "name 'pd' is not defined",
     "output_type": "error",
     "traceback": [
      "\u001b[0;31m---------------------------------------------------------------------------\u001b[0m",
      "\u001b[0;31mNameError\u001b[0m                                 Traceback (most recent call last)",
      "Cell \u001b[0;32mIn[10], line 1\u001b[0m\n\u001b[0;32m----> 1\u001b[0m \u001b[38;5;28;43;01mclass\u001b[39;49;00m\u001b[38;5;250;43m \u001b[39;49m\u001b[38;5;21;43;01mEngine\u001b[39;49;00m\u001b[43m(\u001b[49m\u001b[43m)\u001b[49m\u001b[43m:\u001b[49m\n\u001b[1;32m      2\u001b[0m \u001b[43m    \u001b[49m\u001b[38;5;28;43;01mdef\u001b[39;49;00m\u001b[38;5;250;43m \u001b[39;49m\u001b[38;5;21;43m__init__\u001b[39;49m\u001b[43m(\u001b[49m\u001b[38;5;28;43mself\u001b[39;49m\u001b[43m,\u001b[49m\u001b[43m \u001b[49m\u001b[43minitial_cash\u001b[49m\u001b[38;5;241;43m=\u001b[39;49m\u001b[38;5;241;43m100_000\u001b[39;49m\u001b[43m)\u001b[49m\u001b[43m:\u001b[49m\n\u001b[1;32m      3\u001b[0m \u001b[43m        \u001b[49m\u001b[38;5;28;43mself\u001b[39;49m\u001b[38;5;241;43m.\u001b[39;49m\u001b[43mstrategy\u001b[49m\u001b[43m \u001b[49m\u001b[38;5;241;43m=\u001b[39;49m\u001b[43m \u001b[49m\u001b[38;5;28;43;01mNone\u001b[39;49;00m\n",
      "Cell \u001b[0;32mIn[10], line 11\u001b[0m, in \u001b[0;36mEngine\u001b[0;34m()\u001b[0m\n\u001b[1;32m      8\u001b[0m     \u001b[38;5;28mself\u001b[39m\u001b[38;5;241m.\u001b[39mcash_series \u001b[38;5;241m=\u001b[39m {}\n\u001b[1;32m      9\u001b[0m     \u001b[38;5;28mself\u001b[39m\u001b[38;5;241m.\u001b[39mstock_series \u001b[38;5;241m=\u001b[39m {}\n\u001b[0;32m---> 11\u001b[0m \u001b[38;5;28;01mdef\u001b[39;00m\u001b[38;5;250m \u001b[39m\u001b[38;5;21madd_data\u001b[39m(\u001b[38;5;28mself\u001b[39m, data:\u001b[43mpd\u001b[49m\u001b[38;5;241m.\u001b[39mDataFrame):\n\u001b[1;32m     12\u001b[0m     \u001b[38;5;66;03m# Add OHLC data to the engine\u001b[39;00m\n\u001b[1;32m     13\u001b[0m     \u001b[38;5;28mself\u001b[39m\u001b[38;5;241m.\u001b[39mdata \u001b[38;5;241m=\u001b[39m data\n\u001b[1;32m     15\u001b[0m \u001b[38;5;28;01mdef\u001b[39;00m\u001b[38;5;250m \u001b[39m\u001b[38;5;21madd_strategy\u001b[39m(\u001b[38;5;28mself\u001b[39m, strategy):\n\u001b[1;32m     16\u001b[0m     \u001b[38;5;66;03m# Add a strategy to the engine\u001b[39;00m\n",
      "\u001b[0;31mNameError\u001b[0m: name 'pd' is not defined"
     ]
    }
   ],
   "source": [
    "class Engine():\n",
    "    def __init__(self, initial_cash=100_000):\n",
    "        self.strategy = None\n",
    "        self.cash = initial_cash\n",
    "        self.initial_cash = initial_cash\n",
    "        self.data = None\n",
    "        self.current_idx = None\n",
    "        self.cash_series = {}\n",
    "        self.stock_series = {}\n",
    "        \n",
    "    def add_data(self, data:pd.DataFrame):\n",
    "        # Add OHLC data to the engine\n",
    "        self.data = data\n",
    "        \n",
    "    def add_strategy(self, strategy):\n",
    "        # Add a strategy to the engine\n",
    "        self.strategy = strategy\n",
    "\n",
    "    \n",
    "    def run(self):\n",
    "        # We need to preprocess a few things before running the backtest\n",
    "        self.strategy.data = self.data\n",
    "        \n",
    "        for idx in tqdm(self.data.index):\n",
    "            self.current_idx = idx\n",
    "            self.strategy.current_idx = self.current_idx\n",
    "            # fill orders from previus period\n",
    "            self._fill_orders()\n",
    "            \n",
    "            # Run the strategy on the current bar\n",
    "            self.strategy.on_bar()\n",
    "\n",
    "            self.cash_series[idx] = self.cash\n",
    "            self.stock_series[idx] = self.strategy.position_size * self.data.loc[self.current_idx]['Close']\n",
    "        return self._get_stats()\n",
    "                \n",
    "    def _fill_orders(self):\n",
    "        for order in self.strategy.orders:\n",
    "            # FOR NOW, SET FILL PRICE TO EQUAL OPEN PRICE. THIS HOLDS TRUE FOR MARKET ORDERS\n",
    "            fill_price = self.data.loc[self.current_idx]['Open']\n",
    "            can_fill = False\n",
    "            if order.side == 'buy' and self.cash >= self.data.loc[self.current_idx]['Open'] * order.size:\n",
    "                if order.type == 'limit':\n",
    "                    # LIMIT BUY ORDERS ONLY GET FILLED IF THE LIMIT PRICE IS GREATER THAN OR EQUAL TO THE LOW PRICE\n",
    "                    if order.limit_price >= self.data.loc[self.current_idx]['Low']:\n",
    "                        ill_price = order.limit_price\n",
    "                        can_fill = True\n",
    "                        print(self.current_idx, 'Buy Filled. ', \"limit\",order.limit_price,\" / low\", self.data.loc[self.current_idx]['Low'])\n",
    "\n",
    "                    else:\n",
    "                        print(self.current_idx,'Buy NOT filled. ', \"limit\",order.limit_price,\" / low\", self.data.loc[self.current_idx]['Low'])\n",
    "                else:        \n",
    "                    can_fill = True \n",
    "            elif order.side == 'sell' and self.strategy.position_size >= order.size:\n",
    "                if order.type == 'limit':\n",
    "                    #LIMIT SELL ORDERS ONLY GET FILLED IF THE LIMIT PRICE IS LESS THAN OR EQUAL TO THE HIGH PRICE\n",
    "                    if order.limit_price <= self.data.loc[self.current_idx]['High']:\n",
    "                        fill_price = order.limit_price\n",
    "                        can_fill = True\n",
    "                        print(self.current_idx,'Sell filled. ', \"limit\",order.limit_price,\" / high\", self.data.loc[self.current_idx]['High'])\n",
    "\n",
    "                    else:\n",
    "                        print(self.current_idx,'Sell NOT filled. ', \"limit\",order.limit_price,\" / high\", self.data.loc[self.current_idx]['High'])\n",
    "                else:\n",
    "                    can_fill = True\n",
    "                \n",
    "        if can_fill:\n",
    "            t = Trade(\n",
    "                ticker = order.ticker,\n",
    "                side = order.side,\n",
    "                price= fill_price,\n",
    "                size = order.size,\n",
    "                type = order.type,\n",
    "                idx = self.current_idx)\n",
    "\n",
    "            self.strategy.trades.append(t)\n",
    "            self.cash -= t.price * t.size\n",
    "\n",
    "    self.strategy.orders = []\n",
    "    \n",
    "    def _get_stats(self):\n",
    "        metrics = {}\n",
    "        total_return = 100 *((self.data.loc[self.current_idx]['Close'] * self.strategy.position_size + self.cash) / self.initial_cash -1)\n",
    "        metrics['total_return'] = total_return\n",
    "        return metrics"
   ]
  },
  {
   "cell_type": "code",
   "execution_count": 11,
   "metadata": {},
   "outputs": [
    {
     "ename": "ModuleNotFoundError",
     "evalue": "No module named 'yfinance'",
     "output_type": "error",
     "traceback": [
      "\u001b[0;31m---------------------------------------------------------------------------\u001b[0m",
      "\u001b[0;31mModuleNotFoundError\u001b[0m                       Traceback (most recent call last)",
      "Cell \u001b[0;32mIn[11], line 1\u001b[0m\n\u001b[0;32m----> 1\u001b[0m \u001b[38;5;28;01mimport\u001b[39;00m\u001b[38;5;250m \u001b[39m\u001b[38;5;21;01myfinance\u001b[39;00m\u001b[38;5;250m \u001b[39m\u001b[38;5;28;01mas\u001b[39;00m\u001b[38;5;250m \u001b[39m\u001b[38;5;21;01myf\u001b[39;00m\n\u001b[1;32m      2\u001b[0m \u001b[38;5;28;01mclass\u001b[39;00m\u001b[38;5;250m \u001b[39m\u001b[38;5;21;01mBuyAndSellSwitch\u001b[39;00m(Strategy):\n\u001b[1;32m      3\u001b[0m     \u001b[38;5;28;01mdef\u001b[39;00m\u001b[38;5;250m \u001b[39m\u001b[38;5;21mon_bar\u001b[39m(\u001b[38;5;28mself\u001b[39m):\n",
      "\u001b[0;31mModuleNotFoundError\u001b[0m: No module named 'yfinance'"
     ]
    }
   ],
   "source": [
    "import yfinance as yf\n",
    "class BuyAndSellSwitch(Strategy):\n",
    "    def on_bar(self):\n",
    "        if self.position_size == 0:\n",
    "            limit_price = self.close * 0.995\n",
    "            self.buy_limit('AAPL', size=100,limit_price=limit_price)\n",
    "            print(self.current_idx,\"buy\")\n",
    "        else:\n",
    "            limit_price = self.close * 1.005\n",
    "            self.sell_limit('AAPL', size=100,limit_price=limit_price)\n",
    "            print(self.current_idx,\"sell\")"
   ]
  },
  {
   "cell_type": "code",
   "execution_count": 12,
   "metadata": {},
   "outputs": [
    {
     "ename": "NameError",
     "evalue": "name 'yf' is not defined",
     "output_type": "error",
     "traceback": [
      "\u001b[0;31m---------------------------------------------------------------------------\u001b[0m",
      "\u001b[0;31mNameError\u001b[0m                                 Traceback (most recent call last)",
      "Cell \u001b[0;32mIn[12], line 1\u001b[0m\n\u001b[0;32m----> 1\u001b[0m data \u001b[38;5;241m=\u001b[39m \u001b[43myf\u001b[49m\u001b[38;5;241m.\u001b[39mTicker(\u001b[38;5;124m'\u001b[39m\u001b[38;5;124mAAPL\u001b[39m\u001b[38;5;124m'\u001b[39m)\u001b[38;5;241m.\u001b[39mhistory(start\u001b[38;5;241m=\u001b[39m\u001b[38;5;124m'\u001b[39m\u001b[38;5;124m2022-12-01\u001b[39m\u001b[38;5;124m'\u001b[39m, end\u001b[38;5;241m=\u001b[39m\u001b[38;5;124m'\u001b[39m\u001b[38;5;124m2022-12-31\u001b[39m\u001b[38;5;124m'\u001b[39m, interval\u001b[38;5;241m=\u001b[39m\u001b[38;5;124m'\u001b[39m\u001b[38;5;124m1d\u001b[39m\u001b[38;5;124m'\u001b[39m)\n\u001b[1;32m      2\u001b[0m e \u001b[38;5;241m=\u001b[39m Engine()\n\u001b[1;32m      3\u001b[0m e\u001b[38;5;241m.\u001b[39madd_data(data)\n",
      "\u001b[0;31mNameError\u001b[0m: name 'yf' is not defined"
     ]
    }
   ],
   "source": [
    "data = yf.Ticker('AAPL').history(start='2022-12-01', end='2022-12-31', interval='1d')\n",
    "e = Engine()\n",
    "e.add_data(data)\n",
    "e.add_strategy(BuyAndSellSwitch())\n",
    "e.run()  "
   ]
  },
  {
   "cell_type": "code",
   "execution_count": null,
   "metadata": {},
   "outputs": [],
   "source": []
  }
 ],
 "metadata": {
  "kernelspec": {
   "display_name": "Python 3",
   "language": "python",
   "name": "python3"
  },
  "language_info": {
   "codemirror_mode": {
    "name": "ipython",
    "version": 3
   },
   "file_extension": ".py",
   "mimetype": "text/x-python",
   "name": "python",
   "nbconvert_exporter": "python",
   "pygments_lexer": "ipython3",
   "version": "3.11.4"
  }
 },
 "nbformat": 4,
 "nbformat_minor": 2
}
